{
 "cells": [
  {
   "cell_type": "code",
   "execution_count": null,
   "metadata": {},
   "outputs": [],
   "source": [
    "import numpy as np\n",
    "\n",
    "np.random.seed(42)"
   ]
  },
  {
   "cell_type": "code",
   "execution_count": null,
   "metadata": {},
   "outputs": [],
   "source": [
    "import pandas as pd\n",
    "\n",
    "df = pd.read_csv(\"./data/dataset.csv\")"
   ]
  },
  {
   "cell_type": "code",
   "execution_count": null,
   "metadata": {},
   "outputs": [],
   "source": [
    "df.drop(\"Unnamed: 0\", axis=1, inplace=True)"
   ]
  },
  {
   "cell_type": "code",
   "execution_count": null,
   "metadata": {},
   "outputs": [],
   "source": [
    "categorical_features = [\n",
    "    \"bond_type\",\n",
    "    \"dimensions\",\n",
    "    \"linkerA\",\n",
    "    \"linkerB\",\n",
    "    \"net\",\n",
    "    \"chemical_formula\",\n",
    "    \"vertices\",\n",
    "    \"edges\",\n",
    "    \"genus\",\n",
    "]\n",
    "\n",
    "df.drop(categorical_features, axis=1, inplace=True)"
   ]
  },
  {
   "cell_type": "code",
   "execution_count": null,
   "metadata": {},
   "outputs": [],
   "source": [
    "target_variables =[\n",
    "    \"heatDesorptionHigh\",\n",
    "    \"heatDesorptionHigh_Error\",\n",
    "    \"highUptake_molec\",\n",
    "    \"highUptakeError_molec\",\n",
    "    \"highUptakeError_mol\",\n",
    "    \"heatDesorptionLow\",\n",
    "    \"heatDesorptionLow_error\",\n",
    "    \"lowUptake_molec\",\n",
    "    \"lowUptakeError_molec\",\n",
    "    \"lowUptake_mol\",\n",
    "    \"lowUptakeError_mol\",\n",
    "    \"surface_area\",\n",
    "    \"del_capacity\"\n",
    "]\n",
    "\n",
    "df.drop(target_variables, axis=1, inplace=True)"
   ]
  },
  {
   "cell_type": "code",
   "execution_count": null,
   "metadata": {},
   "outputs": [],
   "source": [
    "df_len = len(df)\n",
    "\n",
    "df[\"id\"] = df.index\n",
    "best_row = df.nlargest(1, \"highUptake_mol\").index\n",
    "great_rows = df.nlargest(15, \"highUptake_mol\")[5:].sample(5).index\n",
    "\n",
    "best_rows = np.concatenate((best_row, great_rows))\n",
    "additional_rows = np.random.choice(df.index.difference(best_rows), size=100 - len(best_rows), replace=False)\n",
    "combined_indices = np.concatenate((best_rows, additional_rows))\n",
    "\n",
    "df_test = df.loc[combined_indices]\n",
    "\n",
    "# Save test dataset with ID and highUptake_mol columns\n",
    "solution = df_test[[\"id\", \"highUptake_mol\"]].copy()\n",
    "solution[\"Usage\"] = \"Public\"\n",
    "solution.to_csv(\"./data/solution.csv\", index=False)\n",
    "\n",
    "# Save test dataset without the target column\n",
    "df_test.drop(\"highUptake_mol\", axis=1).to_csv(\"./data/test.csv\", index=False)\n",
    "\n",
    "# Generate a sample submission with random predictions within the target value range\n",
    "minimum, maximum = df[\"highUptake_mol\"].min(), df[\"highUptake_mol\"].max()\n",
    "sample_submission = df_test[[\"id\"]].copy()\n",
    "sample_submission[\"highUptake_mol\"] = np.random.uniform(minimum, maximum, len(df_test))\n",
    "sample_submission.to_csv(\"./data/sample_submission.csv\", index=False)\n",
    "\n",
    "# Remove selected rows from the original dataframe\n",
    "df.drop(index=combined_indices, inplace=True)\n",
    "\n",
    "# Sanity check to ensure no data loss\n",
    "assert len(df) + len(df_test) == df_len\n",
    "\n",
    "# Assert that all 'id' values in df are unique\n",
    "assert df[\"id\"].is_unique, \"IDs in df are not unique\"\n",
    "\n",
    "# Assert that all 'id' values in df_test are unique\n",
    "assert df_test[\"id\"].is_unique, \"IDs in df_test are not unique\"\n",
    "\n",
    "# Assert that there is no intersection of 'id' values between df and df_test\n",
    "assert not set(df[\"id\"]).intersection(set(df_test[\"id\"])), \"IDs in df and df_test intersect\""
   ]
  },
  {
   "cell_type": "code",
   "execution_count": null,
   "metadata": {},
   "outputs": [],
   "source": [
    "# Make sure you assign NaNs only to float64 columns\n",
    "float64_columns = list(\n",
    "    set(df.columns).difference(df.select_dtypes(exclude=[\"float64\"]).columns.tolist())\n",
    ")\n",
    "\n",
    "# Select random indices (rows) to introduce NaNs\n",
    "nan_indices = np.random.choice(df.index, size=int(0.125 * len(df)), replace=False)\n",
    "\n",
    "# For each selected row, choose a random number of columns to assign NaNs\n",
    "for idx in nan_indices:\n",
    "    # Randomly choose the number of columns to assign NaNs (at least 1 column, at most all columns)\n",
    "    num_nans = np.random.binomial(len(df.columns), 0.1) + 1  # Bias towards fewer NaNs\n",
    "\n",
    "    # Randomly choose which columns to assign NaNs\n",
    "    nan_columns = np.random.choice(float64_columns, size=num_nans, replace=False)\n",
    "\n",
    "    # Assign NaNs to the selected columns of the current row\n",
    "    df.loc[idx, nan_columns] = np.nan\n",
    "\n",
    "# Display the first few rows of the DataFrame with NaNs\n",
    "df.head()\n"
   ]
  },
  {
   "cell_type": "code",
   "execution_count": null,
   "metadata": {},
   "outputs": [],
   "source": [
    "df.to_csv(\"./data/train.csv\", index=False)"
   ]
  }
 ],
 "metadata": {
  "kernelspec": {
   "display_name": ".env",
   "language": "python",
   "name": "python3"
  },
  "language_info": {
   "codemirror_mode": {
    "name": "ipython",
    "version": 3
   },
   "file_extension": ".py",
   "mimetype": "text/x-python",
   "name": "python",
   "nbconvert_exporter": "python",
   "pygments_lexer": "ipython3",
   "version": "3.12.7"
  }
 },
 "nbformat": 4,
 "nbformat_minor": 2
}
